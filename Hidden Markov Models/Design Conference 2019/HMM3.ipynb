%matplotlib inline 
import matplotlib.pyplot as plt
import numpy as np
from hmmlearn import hmm

