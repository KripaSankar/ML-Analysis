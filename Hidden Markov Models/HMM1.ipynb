import matplotlib.pyplot as plt
from scipy import stats
import numpy as np
from hmmlearn import hmm
import math
import os

import datetime
import warnings

from numpy.lib.stride_tricks import as_strided
import scipy
from scipy.io import wavfile
from sklearn.model_selection import StratifiedShuffleSplit
import mpl_finance
import itertools

from matplotlib import cm, pyplot as plt

from matplotlib.dates import YearLocator, MonthLocator

from mpl_finance import candlestick_ohlc
import pandas as pd
from sklearn.model_selection import train_test_split
from tqdm import tqdm
